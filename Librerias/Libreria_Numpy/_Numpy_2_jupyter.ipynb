{
 "cells": [
  {
   "cell_type": "code",
   "execution_count": 1,
   "id": "b20aad7b",
   "metadata": {},
   "outputs": [],
   "source": [
    "import numpy as np"
   ]
  },
  {
   "cell_type": "code",
   "execution_count": 3,
   "id": "1a515df3",
   "metadata": {},
   "outputs": [
    {
     "name": "stdout",
     "output_type": "stream",
     "text": [
      "[ 1  2  3  4  5  6  7  8  9 10]\n"
     ]
    }
   ],
   "source": [
    "x = np.arange(1,11)\n",
    "\n",
    "print(x)"
   ]
  },
  {
   "cell_type": "code",
   "execution_count": 4,
   "id": "158d716d",
   "metadata": {},
   "outputs": [
    {
     "name": "stdout",
     "output_type": "stream",
     "text": [
      "[11 12 13 14 15 16 17 18 19 20]\n"
     ]
    }
   ],
   "source": [
    "y = np.arange(11,21)\n",
    "\n",
    "print(y)"
   ]
  },
  {
   "cell_type": "code",
   "execution_count": 5,
   "id": "685c3d48",
   "metadata": {},
   "outputs": [
    {
     "name": "stdout",
     "output_type": "stream",
     "text": [
      "[12 14 16 18 20 22 24 26 28 30]\n"
     ]
    }
   ],
   "source": [
    "print(x+y)"
   ]
  },
  {
   "cell_type": "code",
   "execution_count": 6,
   "id": "d2e0f6ef",
   "metadata": {},
   "outputs": [
    {
     "name": "stdout",
     "output_type": "stream",
     "text": [
      "[ 3  6  9 12 15 18 21 24 27 30]\n"
     ]
    }
   ],
   "source": [
    "print(3*x)"
   ]
  },
  {
   "cell_type": "code",
   "execution_count": 7,
   "id": "6a4c2d6d",
   "metadata": {},
   "outputs": [
    {
     "name": "stdout",
     "output_type": "stream",
     "text": [
      "[11 12 13 14 15 16 17 18 19 20]\n"
     ]
    }
   ],
   "source": [
    "print(x+10)"
   ]
  },
  {
   "cell_type": "code",
   "execution_count": 9,
   "id": "5d082c65",
   "metadata": {},
   "outputs": [
    {
     "name": "stdout",
     "output_type": "stream",
     "text": [
      "[  1   4   9  16  25  36  49  64  81 100]\n"
     ]
    }
   ],
   "source": [
    "print(x**2)"
   ]
  },
  {
   "cell_type": "code",
   "execution_count": 13,
   "id": "cfc19eab",
   "metadata": {},
   "outputs": [
    {
     "name": "stdout",
     "output_type": "stream",
     "text": [
      "0.0\n"
     ]
    }
   ],
   "source": [
    "import math as ma\n",
    "# sin cos\n",
    "\n",
    "print(round(ma.sin(ma.pi),2))"
   ]
  },
  {
   "cell_type": "markdown",
   "id": "78d2bae0",
   "metadata": {},
   "source": [
    "$$x = (1,2,3)$$\n",
    "\n",
    "$$np.sin(x) = (sin(1), sin(2), sin(3))$$\n",
    "\n",
    "$$np.exp(x) = (e^1, e^2, e^3)$$"
   ]
  },
  {
   "cell_type": "code",
   "execution_count": 14,
   "id": "9344bf57",
   "metadata": {},
   "outputs": [
    {
     "name": "stdout",
     "output_type": "stream",
     "text": [
      "[-6.28318531 -3.14159265  0.          3.14159265  6.28318531]\n"
     ]
    }
   ],
   "source": [
    "x = np.arange(-2*np.pi, 2*np.pi + np.pi, np.pi)\n",
    "\n",
    "print(x)"
   ]
  },
  {
   "cell_type": "code",
   "execution_count": 17,
   "id": "cbc0f40f",
   "metadata": {},
   "outputs": [
    {
     "name": "stdout",
     "output_type": "stream",
     "text": [
      "[ 2.4492936e-16 -1.2246468e-16  0.0000000e+00  1.2246468e-16\n",
      " -2.4492936e-16]\n"
     ]
    }
   ],
   "source": [
    "print(np.sin(x))"
   ]
  },
  {
   "cell_type": "code",
   "execution_count": 18,
   "id": "f4355ecc",
   "metadata": {},
   "outputs": [
    {
     "name": "stdout",
     "output_type": "stream",
     "text": [
      "[ 1. -1.  1. -1.  1.]\n"
     ]
    }
   ],
   "source": [
    "print(np.cos(x))"
   ]
  },
  {
   "cell_type": "code",
   "execution_count": 23,
   "id": "b2e6a104",
   "metadata": {},
   "outputs": [
    {
     "name": "stdout",
     "output_type": "stream",
     "text": [
      "1\n",
      "5\n",
      "(5,)\n"
     ]
    }
   ],
   "source": [
    "print(x.ndim) #Dimencion del arreglo\n",
    "print(x.size) #Tamaño del arreglo\n",
    "print(x.shape) #(M, N)"
   ]
  },
  {
   "cell_type": "markdown",
   "id": "dd5ff009",
   "metadata": {},
   "source": [
    "# Algebra lineal\n",
    "\n",
    "$$\\vec{x} = (1,2)$$\n",
    "$$\\vec{y} = (3,4)$$\n",
    "\n",
    "## Producto interno\n",
    "\n",
    "$$\\vec{x} \\cdot \\vec{y} = 1 \\cdot 3 + 2 \\cdot 4$$"
   ]
  },
  {
   "cell_type": "code",
   "execution_count": 27,
   "id": "b3bb778a",
   "metadata": {},
   "outputs": [
    {
     "name": "stdout",
     "output_type": "stream",
     "text": [
      "11\n"
     ]
    }
   ],
   "source": [
    "x = np.array([1,2])\n",
    "y = np.array([3,4])\n",
    "\n",
    "print(x.dot(y)) #producto punto x y -> y x"
   ]
  },
  {
   "cell_type": "code",
   "execution_count": 30,
   "id": "fb48235e",
   "metadata": {},
   "outputs": [
    {
     "name": "stdout",
     "output_type": "stream",
     "text": [
      "[-3  6 -3]\n",
      "[ 3 -6  3]\n"
     ]
    }
   ],
   "source": [
    "w = np.array([1,2,3])\n",
    "z = np.array([4,5,6])\n",
    "\n",
    "print(np.cross(w,z)) #producto cruz\n",
    "print(np.cross(z,w))"
   ]
  },
  {
   "cell_type": "markdown",
   "id": "b18fd438",
   "metadata": {},
   "source": [
    "$$x + 2y = 5$$\n",
    "$$3x + 4y = 6$$"
   ]
  },
  {
   "cell_type": "code",
   "execution_count": 33,
   "id": "5334455b",
   "metadata": {},
   "outputs": [
    {
     "name": "stdout",
     "output_type": "stream",
     "text": [
      "[-4.   4.5]\n"
     ]
    }
   ],
   "source": [
    "A = np.array([[1,2], [3,4]])\n",
    "B = np.array([5,6])\n",
    "\n",
    "print(np.linalg.solve(A,B)) #Solucion al sitema de ecuaciones"
   ]
  },
  {
   "cell_type": "markdown",
   "id": "c26cf92f",
   "metadata": {},
   "source": [
    "## Estadistica"
   ]
  },
  {
   "cell_type": "code",
   "execution_count": 35,
   "id": "64b19f3e",
   "metadata": {},
   "outputs": [
    {
     "name": "stdout",
     "output_type": "stream",
     "text": [
      "2.0\n"
     ]
    }
   ],
   "source": [
    "x = np.array([1,2,3])\n",
    "\n",
    "print(np.mean(x)) #Media de los datos del arreglo"
   ]
  }
 ],
 "metadata": {
  "kernelspec": {
   "display_name": "Python 3",
   "language": "python",
   "name": "python3"
  },
  "language_info": {
   "codemirror_mode": {
    "name": "ipython",
    "version": 3
   },
   "file_extension": ".py",
   "mimetype": "text/x-python",
   "name": "python",
   "nbconvert_exporter": "python",
   "pygments_lexer": "ipython3",
   "version": "3.8.8"
  }
 },
 "nbformat": 4,
 "nbformat_minor": 5
}
