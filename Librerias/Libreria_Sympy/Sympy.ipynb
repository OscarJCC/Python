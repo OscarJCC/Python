{
 "cells": [
  {
   "cell_type": "code",
   "execution_count": 1,
   "id": "bbee730e",
   "metadata": {},
   "outputs": [],
   "source": [
    "import sympy as sy"
   ]
  },
  {
   "cell_type": "markdown",
   "id": "bd9d755d",
   "metadata": {},
   "source": [
    "$$\\sqrt{8} = 2\\sqrt{2}$$"
   ]
  },
  {
   "cell_type": "code",
   "execution_count": 6,
   "id": "8171ca88",
   "metadata": {},
   "outputs": [
    {
     "name": "stdout",
     "output_type": "stream",
     "text": [
      "2.8284271247461903\n"
     ]
    },
    {
     "data": {
      "text/latex": [
       "$\\displaystyle 2 \\sqrt{2}$"
      ],
      "text/plain": [
       "2*sqrt(2)"
      ]
     },
     "execution_count": 6,
     "metadata": {},
     "output_type": "execute_result"
    }
   ],
   "source": [
    "print((8)**(1/2))\n",
    "sy.sqrt(8)"
   ]
  },
  {
   "cell_type": "code",
   "execution_count": 8,
   "id": "53c17a31",
   "metadata": {},
   "outputs": [
    {
     "name": "stdout",
     "output_type": "stream",
     "text": [
      "x + 3*y\n"
     ]
    }
   ],
   "source": [
    "#Declarar los simbolos\n",
    "x = sy.symbols(\"x\")\n",
    "y, z = sy.symbols(\"y z\")\n",
    "print(x+3*y)"
   ]
  },
  {
   "cell_type": "code",
   "execution_count": 10,
   "id": "b27db82b",
   "metadata": {},
   "outputs": [
    {
     "name": "stdout",
     "output_type": "stream",
     "text": [
      "<class 'sympy.core.symbol.Symbol'>\n"
     ]
    }
   ],
   "source": [
    " print(type(x))"
   ]
  },
  {
   "cell_type": "code",
   "execution_count": 19,
   "id": "97baab4b",
   "metadata": {},
   "outputs": [
    {
     "name": "stdout",
     "output_type": "stream",
     "text": [
      "2\n",
      "2\n"
     ]
    }
   ],
   "source": [
    "print(z)\n",
    "z = 2\n",
    "print(z)"
   ]
  },
  {
   "cell_type": "code",
   "execution_count": 13,
   "id": "a438f3e3",
   "metadata": {},
   "outputs": [
    {
     "name": "stdout",
     "output_type": "stream",
     "text": [
      "y\n"
     ]
    }
   ],
   "source": [
    "Exp = x**2 + y\n",
    "print(Exp - x**2)"
   ]
  },
  {
   "cell_type": "code",
   "execution_count": 24,
   "id": "b578d5b7",
   "metadata": {},
   "outputs": [
    {
     "name": "stdout",
     "output_type": "stream",
     "text": [
      "(x + y)**2\n"
     ]
    },
    {
     "data": {
      "text/latex": [
       "$\\displaystyle \\left(x + y\\right)^{2}$"
      ],
      "text/plain": [
       "(x + y)**2"
      ]
     },
     "execution_count": 24,
     "metadata": {},
     "output_type": "execute_result"
    }
   ],
   "source": [
    "#Funcion Factor()\n",
    "Exp1 = x**2 + 2*x*y + y**2\n",
    "print(sy.factor(Exp1))\n",
    "sy.factor(Exp1)"
   ]
  },
  {
   "cell_type": "code",
   "execution_count": 26,
   "id": "273ec8fa",
   "metadata": {},
   "outputs": [
    {
     "name": "stdout",
     "output_type": "stream",
     "text": [
      "x**2 + 2*x\n",
      "3\n"
     ]
    }
   ],
   "source": [
    "Exp2 = x**2 +2*x\n",
    "print(Exp2)\n",
    "print(Exp2.subs(x,1))"
   ]
  },
  {
   "cell_type": "code",
   "execution_count": 29,
   "id": "78901650",
   "metadata": {},
   "outputs": [
    {
     "name": "stdout",
     "output_type": "stream",
     "text": [
      "b*(a**2 + 1)\n"
     ]
    },
    {
     "data": {
      "text/latex": [
       "$\\displaystyle b \\left(a^{2} + 1\\right)$"
      ],
      "text/plain": [
       "b*(a**2 + 1)"
      ]
     },
     "execution_count": 29,
     "metadata": {},
     "output_type": "execute_result"
    }
   ],
   "source": [
    "a , b = sy.symbols(\"a b\")\n",
    "Exp3 = (a**2)*b + 2*b - b #b(a**2+1)\n",
    "print(sy.simplify(Exp3))\n",
    "sy.simplify(Exp3)"
   ]
  },
  {
   "cell_type": "markdown",
   "id": "61829360",
   "metadata": {},
   "source": [
    "$$\\cos^2 (x) + \\sin^2 (x) = 1$$"
   ]
  },
  {
   "cell_type": "code",
   "execution_count": 31,
   "id": "594824dc",
   "metadata": {},
   "outputs": [
    {
     "name": "stdout",
     "output_type": "stream",
     "text": [
      "True\n",
      "False\n"
     ]
    }
   ],
   "source": [
    "h = sy.cos(x)**2 + sy.sin(x)**2\n",
    "g = 1\n",
    "print(h.equals(g))\n",
    "print(h==g)"
   ]
  },
  {
   "cell_type": "code",
   "execution_count": 33,
   "id": "32bca890",
   "metadata": {},
   "outputs": [
    {
     "name": "stdout",
     "output_type": "stream",
     "text": [
      "1\n"
     ]
    }
   ],
   "source": [
    "Number = sy.Integer(1)\n",
    "print(Number)"
   ]
  },
  {
   "cell_type": "code",
   "execution_count": 35,
   "id": "83a72ef7",
   "metadata": {},
   "outputs": [
    {
     "name": "stdout",
     "output_type": "stream",
     "text": [
      "sin(x)**2 + cos(x)**2 + 1\n"
     ]
    }
   ],
   "source": [
    "print(Number+h)"
   ]
  },
  {
   "cell_type": "code",
   "execution_count": 37,
   "id": "966a6fcb",
   "metadata": {},
   "outputs": [
    {
     "name": "stdout",
     "output_type": "stream",
     "text": [
      "5\n"
     ]
    }
   ],
   "source": [
    "z = sy.symbols(\"z\")\n",
    "Ec = x**2 + 2*x*y + z\n",
    "#x = 2, y = 0, z = 1, Ec = 5\n",
    "print(Ec.subs([(x,2), (y,0), (z,1)]))"
   ]
  },
  {
   "cell_type": "markdown",
   "id": "3e8619fb",
   "metadata": {},
   "source": [
    "# Impresion en pantalla\n",
    "- str\n",
    "- ASCII\n",
    "- Unicode\n",
    "- Latex\n",
    "- MathML"
   ]
  },
  {
   "cell_type": "code",
   "execution_count": 74,
   "id": "d719df9d",
   "metadata": {},
   "outputs": [],
   "source": [
    "sy.init_printing(x**2 + 2 + y**2,x)"
   ]
  },
  {
   "cell_type": "code",
   "execution_count": 52,
   "id": "9d716f75",
   "metadata": {},
   "outputs": [
    {
     "data": {
      "image/png": "[encoded data removed]",
      "text/latex": [
       "$\\displaystyle x^{2} + y^{2} + 2$"
      ],
      "text/plain": [
       " 2    2    \n",
       "x  + y  + 2"
      ]
     },
     "execution_count": 52,
     "metadata": {},
     "output_type": "execute_result"
    }
   ],
   "source": [
    "x**2 + 2 + y**2"
   ]
  },
  {
   "cell_type": "code",
   "execution_count": 53,
   "id": "70b99605",
   "metadata": {},
   "outputs": [
    {
     "data": {
      "text/plain": [
       "'x**2 + y**2 + 2'"
      ]
     },
     "execution_count": 53,
     "metadata": {},
     "output_type": "execute_result"
    }
   ],
   "source": [
    "str(x**2 + 2 + y**2)"
   ]
  },
  {
   "cell_type": "code",
   "execution_count": 57,
   "id": "0d47f6f7",
   "metadata": {},
   "outputs": [
    {
     "name": "stdout",
     "output_type": "stream",
     "text": [
      " 2    2    \n",
      "x  + y  + 2\n"
     ]
    }
   ],
   "source": [
    "sy.pprint(x**2 + 2 + y**2,use_unicode = True)"
   ]
  },
  {
   "cell_type": "code",
   "execution_count": 58,
   "id": "9f8256e5",
   "metadata": {},
   "outputs": [
    {
     "name": "stdout",
     "output_type": "stream",
     "text": [
      " 2    2    \n",
      "x  + y  + 2\n"
     ]
    }
   ],
   "source": [
    "sy.pprint(x**2 + 2 + y**2,use_unicode = False)"
   ]
  },
  {
   "cell_type": "code",
   "execution_count": 61,
   "id": "1d7058d6",
   "metadata": {},
   "outputs": [
    {
     "data": {
      "image/png": "[encoded data removed]",
      "text/latex": [
       "$\\displaystyle \\int e^{- x^{2}}\\, dx$"
      ],
      "text/plain": [
       "⌠        \n",
       "⎮    2   \n",
       "⎮  -x    \n",
       "⎮ ℯ    dx\n",
       "⌡        "
      ]
     },
     "execution_count": 61,
     "metadata": {},
     "output_type": "execute_result"
    }
   ],
   "source": [
    "sum = sy.Integral(sy.exp(-x**2),x)\n",
    "sum"
   ]
  },
  {
   "cell_type": "code",
   "execution_count": 63,
   "id": "938c9af2",
   "metadata": {},
   "outputs": [
    {
     "name": "stdout",
     "output_type": "stream",
     "text": [
      "⌠        \n",
      "⎮    2   \n",
      "⎮  -x    \n",
      "⎮ ℯ    dx\n",
      "⌡        \n",
      "  /       \n",
      " |        \n",
      " |    2   \n",
      " |  -x    \n",
      " | e    dx\n",
      " |        \n",
      "/         \n"
     ]
    }
   ],
   "source": [
    "str(sum)\n",
    "sy.pprint(sum,use_unicode = True) #Unicode\n",
    "sy.pprint(sum,use_unicode = False) #ASCII"
   ]
  },
  {
   "cell_type": "markdown",
   "id": "bc623c4c",
   "metadata": {},
   "source": [
    "$$\\int e^{-x^2} dx$$"
   ]
  },
  {
   "cell_type": "code",
   "execution_count": 64,
   "id": "203b9259",
   "metadata": {},
   "outputs": [
    {
     "data": {
      "text/plain": [
       "'\\\\int e^{- x^{2}}\\\\, dx'"
      ]
     },
     "execution_count": 64,
     "metadata": {},
     "output_type": "execute_result"
    }
   ],
   "source": [
    "sy.latex(sum)"
   ]
  },
  {
   "cell_type": "markdown",
   "id": "ccebb738",
   "metadata": {},
   "source": [
    "$$\\int e^{- x^{2}} dx$$"
   ]
  },
  {
   "cell_type": "code",
   "execution_count": null,
   "id": "0db461af",
   "metadata": {},
   "outputs": [],
   "source": []
  }
 ],
 "metadata": {
  "kernelspec": {
   "display_name": "Python 3",
   "language": "python",
   "name": "python3"
  },
  "language_info": {
   "codemirror_mode": {
    "name": "ipython",
    "version": 3
   },
   "file_extension": ".py",
   "mimetype": "text/x-python",
   "name": "python",
   "nbconvert_exporter": "python",
   "pygments_lexer": "ipython3",
   "version": "3.8.8"
  }
 },
 "nbformat": 4,
 "nbformat_minor": 5
}
